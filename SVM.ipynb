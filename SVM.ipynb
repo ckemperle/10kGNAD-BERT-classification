{
 "cells": [
  {
   "cell_type": "code",
   "execution_count": 1,
   "id": "d20657de",
   "metadata": {},
   "outputs": [],
   "source": [
    "import numpy as np\n",
    "import pandas as pd\n",
    "from sklearn.svm import LinearSVC\n",
    "from sklearn.pipeline import Pipeline\n",
    "from sklearn.feature_extraction.text import CountVectorizer\n",
    "from sklearn.feature_extraction.text import TfidfTransformer"
   ]
  },
  {
   "cell_type": "code",
   "execution_count": 2,
   "id": "366bca5f",
   "metadata": {},
   "outputs": [],
   "source": [
    "df_test = pd.read_csv('data/10kGNAD-master/test.csv', header=None, sep=';', quotechar=\"'\", names=['label', 'text'])"
   ]
  },
  {
   "cell_type": "code",
   "execution_count": 3,
   "id": "888339a2",
   "metadata": {},
   "outputs": [
    {
     "name": "stdout",
     "output_type": "stream",
     "text": [
      "ter/train -> 11.48\n"
     ]
    }
   ],
   "source": [
    "filename='data/train.csv'\n",
    "df_train = pd.read_csv(filename, header=None, sep=';', quotechar=\"'\", names=['label', 'text'])\n",
    "\n",
    "# build the classifier pipeline\n",
    "lsvc_classifier = Pipeline([\n",
    "('vect', CountVectorizer()),\n",
    "('tfidf', TfidfTransformer(\n",
    "    sublinear_tf=True # Apply sublinear tf scaling, i.e. replace tf with 1 + log(tf).\n",
    ")),\n",
    "('clf', LinearSVC(\n",
    "    dual=False,\n",
    "    C=1.6,\n",
    "    class_weight=\"balanced\"\n",
    "))\n",
    "])\n",
    "\n",
    "lsvc_classifier.fit(df_train['text'], df_train['label'])  # train the classifier\n",
    "predicted = lsvc_classifier.predict(df_test['text'])  # predict the test set \n",
    "acc = np.mean(predicted == df_test['label'])  # calculate the accuracy\n",
    "  \n",
    "print(filename[16:-4],\"%.2f\" % float((100 - acc*100)), sep=\" -> \") # print the error rate"
   ]
  },
  {
   "cell_type": "code",
   "execution_count": 12,
   "id": "b72f4e67",
   "metadata": {},
   "outputs": [],
   "source": [
    "#Confusion Matrix\n",
    "from sklearn.preprocessing import LabelEncoder\n",
    "import pandas as pd\n",
    "import seaborn as sns\n",
    "import matplotlib.pyplot as plt"
   ]
  },
  {
   "cell_type": "code",
   "execution_count": 10,
   "id": "12c98ad7",
   "metadata": {},
   "outputs": [],
   "source": [
    "predicted_class = lsvc_classifier.predict(df_test.text)  # predict all test cases"
   ]
  },
  {
   "cell_type": "code",
   "execution_count": 14,
   "id": "1dc70d13",
   "metadata": {},
   "outputs": [],
   "source": [
    "#encode actual class for confusion matrix\n",
    "label = LabelEncoder()\n",
    "label.fit(df_train.label)\n",
    "int_data_act = label.transform(df_test.label)\n",
    "int_data_act = int_data_act.reshape(len(int_data_act), 1)\n",
    "\n",
    "#encode predicted class for confusion matrix\n",
    "int_data_pred = label.transform(predicted_class)\n",
    "int_data_pred = int_data_pred.reshape(len(int_data_pred), 1)"
   ]
  },
  {
   "cell_type": "code",
   "execution_count": 15,
   "id": "8c17adba",
   "metadata": {},
   "outputs": [],
   "source": [
    "#create confusion matrix\n",
    "data = {'y_Actual': np.ravel(int_data_act).tolist(),\n",
    "        'y_Predicted': np.ravel(int_data_pred).tolist()}\n",
    "\n",
    "df = pd.DataFrame(data, columns=['y_Actual','y_Predicted'])\n",
    "confusion_matrix = pd.crosstab(df['y_Actual'], df['y_Predicted'], rownames=['Actual'], colnames=['Predicted'], margins = True)"
   ]
  },
  {
   "cell_type": "code",
   "execution_count": 16,
   "id": "832c8439",
   "metadata": {},
   "outputs": [
    {
     "data": {
      "text/html": [
       "<div>\n",
       "<style scoped>\n",
       "    .dataframe tbody tr th:only-of-type {\n",
       "        vertical-align: middle;\n",
       "    }\n",
       "\n",
       "    .dataframe tbody tr th {\n",
       "        vertical-align: top;\n",
       "    }\n",
       "\n",
       "    .dataframe thead th {\n",
       "        text-align: right;\n",
       "    }\n",
       "</style>\n",
       "<table border=\"1\" class=\"dataframe\">\n",
       "  <thead>\n",
       "    <tr style=\"text-align: right;\">\n",
       "      <th>Predicted</th>\n",
       "      <th>0</th>\n",
       "      <th>1</th>\n",
       "      <th>2</th>\n",
       "      <th>3</th>\n",
       "      <th>4</th>\n",
       "      <th>5</th>\n",
       "      <th>6</th>\n",
       "      <th>7</th>\n",
       "      <th>8</th>\n",
       "      <th>All</th>\n",
       "    </tr>\n",
       "    <tr>\n",
       "      <th>Actual</th>\n",
       "      <th></th>\n",
       "      <th></th>\n",
       "      <th></th>\n",
       "      <th></th>\n",
       "      <th></th>\n",
       "      <th></th>\n",
       "      <th></th>\n",
       "      <th></th>\n",
       "      <th></th>\n",
       "      <th></th>\n",
       "    </tr>\n",
       "  </thead>\n",
       "  <tbody>\n",
       "    <tr>\n",
       "      <th>0</th>\n",
       "      <td>55</td>\n",
       "      <td>1</td>\n",
       "      <td>3</td>\n",
       "      <td>0</td>\n",
       "      <td>1</td>\n",
       "      <td>0</td>\n",
       "      <td>5</td>\n",
       "      <td>2</td>\n",
       "      <td>0</td>\n",
       "      <td>67</td>\n",
       "    </tr>\n",
       "    <tr>\n",
       "      <th>1</th>\n",
       "      <td>0</td>\n",
       "      <td>90</td>\n",
       "      <td>1</td>\n",
       "      <td>3</td>\n",
       "      <td>2</td>\n",
       "      <td>0</td>\n",
       "      <td>0</td>\n",
       "      <td>4</td>\n",
       "      <td>2</td>\n",
       "      <td>102</td>\n",
       "    </tr>\n",
       "    <tr>\n",
       "      <th>2</th>\n",
       "      <td>2</td>\n",
       "      <td>1</td>\n",
       "      <td>129</td>\n",
       "      <td>0</td>\n",
       "      <td>12</td>\n",
       "      <td>1</td>\n",
       "      <td>0</td>\n",
       "      <td>5</td>\n",
       "      <td>1</td>\n",
       "      <td>151</td>\n",
       "    </tr>\n",
       "    <tr>\n",
       "      <th>3</th>\n",
       "      <td>0</td>\n",
       "      <td>1</td>\n",
       "      <td>0</td>\n",
       "      <td>49</td>\n",
       "      <td>4</td>\n",
       "      <td>0</td>\n",
       "      <td>0</td>\n",
       "      <td>0</td>\n",
       "      <td>0</td>\n",
       "      <td>54</td>\n",
       "    </tr>\n",
       "    <tr>\n",
       "      <th>4</th>\n",
       "      <td>0</td>\n",
       "      <td>6</td>\n",
       "      <td>7</td>\n",
       "      <td>3</td>\n",
       "      <td>140</td>\n",
       "      <td>0</td>\n",
       "      <td>2</td>\n",
       "      <td>7</td>\n",
       "      <td>3</td>\n",
       "      <td>168</td>\n",
       "    </tr>\n",
       "    <tr>\n",
       "      <th>5</th>\n",
       "      <td>0</td>\n",
       "      <td>0</td>\n",
       "      <td>0</td>\n",
       "      <td>0</td>\n",
       "      <td>2</td>\n",
       "      <td>117</td>\n",
       "      <td>1</td>\n",
       "      <td>0</td>\n",
       "      <td>0</td>\n",
       "      <td>120</td>\n",
       "    </tr>\n",
       "    <tr>\n",
       "      <th>6</th>\n",
       "      <td>1</td>\n",
       "      <td>0</td>\n",
       "      <td>2</td>\n",
       "      <td>1</td>\n",
       "      <td>4</td>\n",
       "      <td>0</td>\n",
       "      <td>153</td>\n",
       "      <td>6</td>\n",
       "      <td>1</td>\n",
       "      <td>168</td>\n",
       "    </tr>\n",
       "    <tr>\n",
       "      <th>7</th>\n",
       "      <td>0</td>\n",
       "      <td>5</td>\n",
       "      <td>4</td>\n",
       "      <td>0</td>\n",
       "      <td>3</td>\n",
       "      <td>0</td>\n",
       "      <td>7</td>\n",
       "      <td>122</td>\n",
       "      <td>0</td>\n",
       "      <td>141</td>\n",
       "    </tr>\n",
       "    <tr>\n",
       "      <th>8</th>\n",
       "      <td>0</td>\n",
       "      <td>0</td>\n",
       "      <td>1</td>\n",
       "      <td>0</td>\n",
       "      <td>0</td>\n",
       "      <td>0</td>\n",
       "      <td>0</td>\n",
       "      <td>1</td>\n",
       "      <td>55</td>\n",
       "      <td>57</td>\n",
       "    </tr>\n",
       "    <tr>\n",
       "      <th>All</th>\n",
       "      <td>58</td>\n",
       "      <td>104</td>\n",
       "      <td>147</td>\n",
       "      <td>56</td>\n",
       "      <td>168</td>\n",
       "      <td>118</td>\n",
       "      <td>168</td>\n",
       "      <td>147</td>\n",
       "      <td>62</td>\n",
       "      <td>1028</td>\n",
       "    </tr>\n",
       "  </tbody>\n",
       "</table>\n",
       "</div>"
      ],
      "text/plain": [
       "Predicted   0    1    2   3    4    5    6    7   8   All\n",
       "Actual                                                   \n",
       "0          55    1    3   0    1    0    5    2   0    67\n",
       "1           0   90    1   3    2    0    0    4   2   102\n",
       "2           2    1  129   0   12    1    0    5   1   151\n",
       "3           0    1    0  49    4    0    0    0   0    54\n",
       "4           0    6    7   3  140    0    2    7   3   168\n",
       "5           0    0    0   0    2  117    1    0   0   120\n",
       "6           1    0    2   1    4    0  153    6   1   168\n",
       "7           0    5    4   0    3    0    7  122   0   141\n",
       "8           0    0    1   0    0    0    0    1  55    57\n",
       "All        58  104  147  56  168  118  168  147  62  1028"
      ]
     },
     "execution_count": 16,
     "metadata": {},
     "output_type": "execute_result"
    }
   ],
   "source": [
    "confusion_matrix  # pandas confusion matrix"
   ]
  },
  {
   "cell_type": "code",
   "execution_count": 19,
   "id": "810e3e3c",
   "metadata": {},
   "outputs": [
    {
     "data": {
      "image/png": "[encoded data removed]",
      "text/plain": [
       "<Figure size 720x360 with 2 Axes>"
      ]
     },
     "metadata": {
      "needs_background": "light"
     },
     "output_type": "display_data"
    }
   ],
   "source": [
    "plt.figure(figsize=(10,5))\n",
    "sns.heatmap(confusion_matrix, annot=True, xticklabels=(sorted(set(df_test.label)) + ['ALL']), yticklabels=(sorted(set(df_test.label)) + ['ALL']),fmt='g')\n",
    "plt.title('Confusion Matrix')\n",
    "plt.show()"
   ]
  },
  {
   "cell_type": "code",
   "execution_count": null,
   "id": "2a323b0a",
   "metadata": {},
   "outputs": [],
   "source": [
    "#TP 910\n",
    "#TPR 0.885"
   ]
  }
 ],
 "metadata": {
  "kernelspec": {
   "display_name": "Python 3",
   "language": "python",
   "name": "python3"
  },
  "language_info": {
   "codemirror_mode": {
    "name": "ipython",
    "version": 3
   },
   "file_extension": ".py",
   "mimetype": "text/x-python",
   "name": "python",
   "nbconvert_exporter": "python",
   "pygments_lexer": "ipython3",
   "version": "3.8.8"
  }
 },
 "nbformat": 4,
 "nbformat_minor": 5
}

{
 "cells": [
  {
   "cell_type": "code",
   "execution_count": 1,
   "id": "815aaeef",
   "metadata": {
    "scrolled": true
   },
   "outputs": [],
   "source": [
    "#%% Cleaning\n",
    "import pandas as pd\n",
    "import numpy as np\n",
    "\n",
    "import transformers\n",
    "import logging\n",
    "transformers.logging.get_verbosity = lambda: logging.NOTSET\n",
    "\n",
    "from transformers import BertTokenizer\n",
    "from transformers import TFAutoModel\n",
    "\n",
    "from sklearn.preprocessing import LabelEncoder\n",
    "from sklearn.preprocessing import OneHotEncoder\n",
    "\n",
    "import tensorflow as tf\n",
    "import tensorflow_addons as tfa"
   ]
  },
  {
   "cell_type": "code",
   "execution_count": 12,
   "id": "6b89baf7",
   "metadata": {},
   "outputs": [
    {
     "name": "stdout",
     "output_type": "stream",
     "text": [
      "              group                                               text\n",
      "0        Wirtschaft  Die Gewerkschaft GPA-djp lanciert den \"All-in-...\n",
      "1             Sport  Franzosen verteidigen 2:1-Führung – Kritische ...\n",
      "2               Web  Neues Video von Designern macht im Netz die Ru...\n",
      "3             Sport  23-jähriger Brasilianer muss vier Spiele pausi...\n",
      "4     International  Aufständische verwendeten Chemikalie bei Gefec...\n",
      "...             ...                                                ...\n",
      "1023            Web  Programm \"Ebay Plus\" soll Ende September start...\n",
      "1024         Inland  Fehlerhafte Bilanz 2013, Partei will berufen –...\n",
      "1025          Sport  Als erster Olympia-Champion auch Hawaii-Sieger...\n",
      "1026          Sport  Der Außenseiter aus Denver gewinnt die 50. Sup...\n",
      "1027            Web  Wohl keine Einschränkungen bei Google-Services...\n",
      "\n",
      "[1028 rows x 2 columns]\n",
      "Die Gewerkschaft GPA-djp lanciert den \"All-in-Rechner\" und findet, dass die Vertragsform auf die Führungsebene beschränkt gehört. Wien – Die Gewerkschaft GPA-djp sieht Handlungsbedarf bei sogenannten All-in-Verträgen. Für mehr Transparenz haben die Gewerkschaft nun unter www.allinrechner.at ein Online-Werkzeug lanciert, das Arbeitnehmern mit solchen Verträgen helfen soll, sich einen Überblick zu verschaffen. Es geht darum, ob die Differenz zum Grundgehalt nicht womöglich eine zu geringe ist. Schließlich sei ein All-in-Gehalt oft nur auf den ersten Blick von Vorteil, gab GPA-djp-Chef Wolfgang Katzian (SPÖ) am Montag bei einer Pressekonferenz in Wien zu bedenken. Allzu oft sei bei der All-in-Entlohnung nur schwer nachvollziehbar, wie viele Überstunden und Mehrleistungen damit tatsächlich abgegolten werden. Ein erster guter Schritt aus gewerkschaftlicher Sicht ist Katzian zufolge zwar eine seit Ende Vorjahr gültige Gesetzesänderung, die besagt, dass das Grundgehalt bei All-in-Verträgen in Ziffern auszuweisen ist. So werden über die Normalarbeitszeit hinausgehende Pauschalabgeltungen und andere Mehrleistungen sichtbar. Das ist der Gewerkschaft aber zu wenig, denn die ursprünglich für Führungskräfte gedachte Pauschalabgeltung sei längst in allen Branchen in allen Ebenen von den Führungsebenen abwärts zu Angestellten und Arbeitern eingezogen. So hätten bereits 18 Prozent der Arbeiter einen All-in-Vertrag, laut Arbeitsklimaindex der AK Oberösterreich. Im Bauwesen liege der Anteil bei 27 Prozent. Der allinrechner.at mache aber auch bestehende Verträge transparenter. Einige anonyme Angaben zur Beschäftigungssituation reichen, um das Grundgehalt – und vor allem etwaige Gehaltsverluste – zu ermitteln. Unklarheiten sollen Betroffene dann bei ihrem Betriebsrat oder bei GPA-djp-Experten abklären. Katzian nannte für seine Gewerkschaft eine Vielzahl von Forderungen zu All-in-Verträgen. Vor allem sollen sich All-in-Verträge wie ursprünglich vorgesehen wieder auf Mitarbeiter mit Führungsverantwortung beschränken. Überlegt werde auch – das ist eine Forderung an uns selbst – künftig bei KV-Verhandlungen Muster für All-in-Verträge mitzuverhandlen. All-in-Verträge solle es auch nur mit einer wesentlichen Überzahlung zum branchenüblichen Grundgehalt geben; dazu gehörten auch regelmäßige Valorisierungen einhergehend mit KV-Erhöhungen. Mitarbeiter sollen zudem jederzeit die Möglichkeit haben, wieder aus All-in auszusteigen. All-in-Regelungen sollten laut dem GPA-djp-Chef nur betriebsübliche Arbeitszeiten und -leistungen abdecken. Darüber hinausgehende Leistungen des Arbeitnehmers wie Sonntagsdienste sollen gesondert abgegolten werden. Bleiben müsse den Arbeitnehmern vor allem auch die freie Wahl zwischen Entlohnung auf Einzelstundenbasis oder All-in.\n"
     ]
    }
   ],
   "source": [
    "# Import Test Dataset\n",
    "test = pd.read_csv('data/test.csv', header=None, sep=';', quotechar=\"'\", names=['group', 'text'])\n",
    "\n",
    "print(test)\n",
    "\n",
    "print(test.text[0])"
   ]
  },
  {
   "cell_type": "code",
   "execution_count": 3,
   "id": "8da2dcc4",
   "metadata": {},
   "outputs": [
    {
     "name": "stdout",
     "output_type": "stream",
     "text": [
      "              group                                               text\n",
      "0             Sport  21-Jähriger fällt wohl bis Saisonende aus. Wie...\n",
      "1            Kultur  Erfundene Bilder zu Filmen, die als verloren g...\n",
      "2               Web  Der frischgekürte CEO Sundar Pichai setzt auf ...\n",
      "3        Wirtschaft  Putin: \"Einigung, dass wir Menge auf Niveau vo...\n",
      "4            Inland  Estland sieht den künftigen österreichischen P...\n",
      "...             ...                                                ...\n",
      "9240         Inland  Bernd Saurer war Bridge-Juniorenweltmeister un...\n",
      "9241  International  Sandhere soll in vergangener Woche bei Luftang...\n",
      "9242     Wirtschaft  Derzeit Konzeptgruppe in Berlin – Kein Komment...\n",
      "9243         Inland  Landeshauptmann will den vierten Regierungssit...\n",
      "9244       Panorama  Er ist einer von Millionen syrischen Flüchtlin...\n",
      "\n",
      "[9245 rows x 2 columns]\n",
      "21-Jähriger fällt wohl bis Saisonende aus. Wien – Rapid muss wohl bis Saisonende auf Offensivspieler Thomas Murg verzichten. Der im Winter aus Ried gekommene 21-Jährige erlitt beim 0:4-Heimdebakel gegen Admira Wacker Mödling am Samstag einen Teilriss des Innenbandes im linken Knie, wie eine Magnetresonanz-Untersuchung am Donnerstag ergab. Murg erhielt eine Schiene, muss aber nicht operiert werden. Dennoch steht ihm eine mehrwöchige Pause bevor.\n"
     ]
    }
   ],
   "source": [
    "# Import Train Dataset\n",
    "train = pd.read_csv('data/train.csv', header=None, sep=';', quotechar=\"'\", names=['group', 'text'])\n",
    "\n",
    "print(train)\n",
    "\n",
    "print(train.text[0])"
   ]
  },
  {
   "cell_type": "code",
   "execution_count": 4,
   "id": "754756f6",
   "metadata": {},
   "outputs": [],
   "source": [
    "# Initialize BERT Transformer Tokenizer\n",
    "tokenizer = BertTokenizer.from_pretrained('bert-base-german-cased')  # init tokenizer for BERT\n",
    "\n",
    "SEQ_LEN = 512 #maximum sequence length for BERT is 512"
   ]
  },
  {
   "cell_type": "code",
   "execution_count": 5,
   "id": "39b78f46",
   "metadata": {},
   "outputs": [
    {
     "name": "stdout",
     "output_type": "stream",
     "text": [
      "[[3.0000e+00 2.4390e+03 2.6935e+04 ... 0.0000e+00 0.0000e+00 0.0000e+00]\n",
      " [3.0000e+00 1.3190e+04 5.9200e+02 ... 3.9660e+03 2.6914e+04 4.0000e+00]\n",
      " [3.0000e+00 2.3300e+02 1.7580e+04 ... 0.0000e+00 0.0000e+00 0.0000e+00]\n",
      " ...\n",
      " [3.0000e+00 1.1813e+04 3.1800e+03 ... 0.0000e+00 0.0000e+00 0.0000e+00]\n",
      " [3.0000e+00 1.1680e+03 2.6748e+04 ... 1.0377e+04 6.5020e+03 4.0000e+00]\n",
      " [3.0000e+00 1.7700e+02 1.2700e+02 ... 1.4700e+02 2.6610e+03 4.0000e+00]]\n",
      "[[1. 1. 1. ... 0. 0. 0.]\n",
      " [1. 1. 1. ... 1. 1. 1.]\n",
      " [1. 1. 1. ... 0. 0. 0.]\n",
      " ...\n",
      " [1. 1. 1. ... 0. 0. 0.]\n",
      " [1. 1. 1. ... 1. 1. 1.]\n",
      " [1. 1. 1. ... 1. 1. 1.]]\n"
     ]
    }
   ],
   "source": [
    "# Tokens for every line in Train Dataset\n",
    "Xids = np.zeros((len(train), SEQ_LEN)) # init train ids\n",
    "Xmask = np.zeros((len(train), SEQ_LEN)) # init train mask\n",
    "\n",
    "for ind, seq in enumerate(train.text):\n",
    "    tokens = tokenizer.encode_plus(seq, max_length=SEQ_LEN,\n",
    "                                   truncation=True, padding='max_length', add_special_tokens=True, return_token_type_ids=False, return_attention_mask=True, return_tensors='tf')\n",
    "    Xids[ind,:], Xmask[ind,:] = tokens.input_ids, tokens.attention_mask\n",
    "\n",
    "print(Xids)\n",
    "print(Xmask)"
   ]
  },
  {
   "cell_type": "code",
   "execution_count": 6,
   "id": "c766a538",
   "metadata": {},
   "outputs": [],
   "source": [
    "# Tokens for Test Dataset\n",
    "Tids = np.zeros((len(test), SEQ_LEN)) # init test ids\n",
    "Tmask = np.zeros((len(test), SEQ_LEN)) # init test mask\n",
    "\n",
    "for ind, seq in enumerate(test.text):\n",
    "    tokens = tokenizer.encode_plus(seq, max_length=SEQ_LEN,\n",
    "                                   truncation=True, padding='max_length', add_special_tokens=True, return_token_type_ids=False, return_attention_mask=True, return_tensors='tf')\n",
    "    Tids[ind,:], Tmask[ind,:] = tokens.input_ids, tokens.attention_mask"
   ]
  },
  {
   "cell_type": "code",
   "execution_count": 7,
   "id": "02234ae0",
   "metadata": {},
   "outputs": [
    {
     "name": "stdout",
     "output_type": "stream",
     "text": [
      "Original labels:\n",
      "0               Sport\n",
      "1              Kultur\n",
      "2                 Web\n",
      "3          Wirtschaft\n",
      "4              Inland\n",
      "            ...      \n",
      "9240           Inland\n",
      "9241    International\n",
      "9242       Wirtschaft\n",
      "9243           Inland\n",
      "9244         Panorama\n",
      "Name: group, Length: 9245, dtype: object\n",
      "One hot encoded:\n",
      "[[0. 0. 0. ... 0. 0. 0.]\n",
      " [0. 0. 0. ... 0. 0. 0.]\n",
      " [0. 0. 0. ... 1. 0. 0.]\n",
      " ...\n",
      " [0. 0. 0. ... 0. 1. 0.]\n",
      " [0. 1. 0. ... 0. 0. 0.]\n",
      " [0. 0. 0. ... 0. 0. 0.]]\n",
      "['Etat', 'Inland', 'International', 'Kultur', 'Panorama', 'Sport', 'Web', 'Wirtschaft', 'Wissenschaft']\n",
      "[0. 0. 0. 0. 0. 1. 0. 0. 0.] Sport\n",
      "True\n"
     ]
    }
   ],
   "source": [
    "# One hot encoding the label classes of the trainigs data (with sklearn one hot encoder)\n",
    "label = LabelEncoder()\n",
    "label.fit(train.group)\n",
    "int_data = label.transform(train.group)\n",
    "int_data = int_data.reshape(len(int_data), 1)\n",
    "\n",
    "onehot = OneHotEncoder(sparse=False)\n",
    "onehot.fit(int_data)\n",
    "onehot_train = onehot.transform(int_data)\n",
    "\n",
    "\n",
    "print(f'Original labels:\\n{train.group}')\n",
    "print(f'One hot encoded:\\n{onehot_train}')\n",
    "print(sorted(set(train.group))) #we expect the one hot encoding to be encode the labels in a sorted manner\n",
    "print(onehot_train[0], train.group[0]) #should be equal to Sport\n",
    "print(len(set(train.group)) == len(onehot_train[0])) #should be equal"
   ]
  },
  {
   "cell_type": "code",
   "execution_count": 8,
   "id": "8cd2d8e6",
   "metadata": {},
   "outputs": [],
   "source": [
    "# One hot encoding the label classes of the test data (with sklearn one hot encoder)\n",
    "int_data = label.transform(test.group)\n",
    "int_data = int_data.reshape(len(int_data), 1)\n",
    "\n",
    "onehot_test = onehot.transform(int_data)"
   ]
  },
  {
   "cell_type": "code",
   "execution_count": 9,
   "id": "0d4eb137",
   "metadata": {},
   "outputs": [
    {
     "name": "stdout",
     "output_type": "stream",
     "text": [
      "(<tf.Tensor: shape=(512,), dtype=float64, numpy=\n",
      "array([3.0000e+00, 2.4390e+03, 2.6935e+04, 1.1200e+02, 3.5200e+02,\n",
      "       5.1900e+02, 5.4830e+03, 2.2940e+03, 2.5500e+02, 1.3936e+04,\n",
      "       1.4700e+02, 2.6914e+04, 2.3190e+03, 2.0000e+00, 1.2031e+04,\n",
      "       4.2800e+02, 1.0800e+03, 2.2940e+03, 2.5500e+02, 1.3936e+04,\n",
      "       1.1500e+02, 4.6680e+03, 1.4920e+04, 2.9340e+03, 3.0750e+03,\n",
      "       7.5320e+03, 2.6908e+04, 1.1721e+04, 2.6914e+04, 2.3300e+02,\n",
      "       1.0600e+02, 2.9420e+03, 1.4700e+02, 2.1080e+04, 3.9340e+03,\n",
      "       2.6897e+04, 2.4390e+03, 2.6935e+04, 1.1200e+02, 3.5200e+02,\n",
      "       2.8800e+02, 1.4201e+04, 7.8500e+02, 1.1310e+03, 2.6964e+04,\n",
      "       4.0000e+02, 2.6935e+04, 2.1040e+03, 2.0132e+04, 1.5904e+04,\n",
      "       3.8300e+02, 1.7240e+03, 1.0859e+04, 2.6903e+04, 3.2210e+03,\n",
      "       1.8280e+03, 6.6580e+03, 1.8050e+04, 2.7000e+02, 2.3500e+02,\n",
      "       5.1800e+03, 3.0300e+02, 7.1700e+02, 8.2460e+03, 9.1000e+01,\n",
      "       2.8790e+03, 4.4330e+03, 1.6000e+01, 1.0600e+02, 6.8550e+03,\n",
      "       1.3163e+04, 2.6918e+04, 2.4600e+02, 1.5500e+02, 1.7215e+04,\n",
      "       1.1900e+03, 1.9830e+04, 2.6935e+04, 6.5010e+03, 2.3500e+02,\n",
      "       4.6320e+03, 1.1357e+04, 2.6914e+04, 7.5320e+03, 2.6908e+04,\n",
      "       1.5980e+03, 1.5500e+02, 1.5000e+02, 1.1913e+04, 2.6918e+04,\n",
      "       1.0800e+03, 3.8600e+02, 1.4900e+02, 8.7400e+03, 3.2100e+02,\n",
      "       2.6600e+02, 2.6914e+04, 7.1970e+03, 1.3020e+03, 7.8700e+02,\n",
      "       1.5500e+02, 3.8000e+02, 2.0857e+04, 2.8800e+02, 1.2143e+04,\n",
      "       2.7210e+03, 2.6914e+04, 4.0000e+00, 0.0000e+00, 0.0000e+00,\n",
      "       0.0000e+00, 0.0000e+00, 0.0000e+00, 0.0000e+00, 0.0000e+00,\n",
      "       0.0000e+00, 0.0000e+00, 0.0000e+00, 0.0000e+00, 0.0000e+00,\n",
      "       0.0000e+00, 0.0000e+00, 0.0000e+00, 0.0000e+00, 0.0000e+00,\n",
      "       0.0000e+00, 0.0000e+00, 0.0000e+00, 0.0000e+00, 0.0000e+00,\n",
      "       0.0000e+00, 0.0000e+00, 0.0000e+00, 0.0000e+00, 0.0000e+00,\n",
      "       0.0000e+00, 0.0000e+00, 0.0000e+00, 0.0000e+00, 0.0000e+00,\n",
      "       0.0000e+00, 0.0000e+00, 0.0000e+00, 0.0000e+00, 0.0000e+00,\n",
      "       0.0000e+00, 0.0000e+00, 0.0000e+00, 0.0000e+00, 0.0000e+00,\n",
      "       0.0000e+00, 0.0000e+00, 0.0000e+00, 0.0000e+00, 0.0000e+00,\n",
      "       0.0000e+00, 0.0000e+00, 0.0000e+00, 0.0000e+00, 0.0000e+00,\n",
      "       0.0000e+00, 0.0000e+00, 0.0000e+00, 0.0000e+00, 0.0000e+00,\n",
      "       0.0000e+00, 0.0000e+00, 0.0000e+00, 0.0000e+00, 0.0000e+00,\n",
      "       0.0000e+00, 0.0000e+00, 0.0000e+00, 0.0000e+00, 0.0000e+00,\n",
      "       0.0000e+00, 0.0000e+00, 0.0000e+00, 0.0000e+00, 0.0000e+00,\n",
      "       0.0000e+00, 0.0000e+00, 0.0000e+00, 0.0000e+00, 0.0000e+00,\n",
      "       0.0000e+00, 0.0000e+00, 0.0000e+00, 0.0000e+00, 0.0000e+00,\n",
      "       0.0000e+00, 0.0000e+00, 0.0000e+00, 0.0000e+00, 0.0000e+00,\n",
      "       0.0000e+00, 0.0000e+00, 0.0000e+00, 0.0000e+00, 0.0000e+00,\n",
      "       0.0000e+00, 0.0000e+00, 0.0000e+00, 0.0000e+00, 0.0000e+00,\n",
      "       0.0000e+00, 0.0000e+00, 0.0000e+00, 0.0000e+00, 0.0000e+00,\n",
      "       0.0000e+00, 0.0000e+00, 0.0000e+00, 0.0000e+00, 0.0000e+00,\n",
      "       0.0000e+00, 0.0000e+00, 0.0000e+00, 0.0000e+00, 0.0000e+00,\n",
      "       0.0000e+00, 0.0000e+00, 0.0000e+00, 0.0000e+00, 0.0000e+00,\n",
      "       0.0000e+00, 0.0000e+00, 0.0000e+00, 0.0000e+00, 0.0000e+00,\n",
      "       0.0000e+00, 0.0000e+00, 0.0000e+00, 0.0000e+00, 0.0000e+00,\n",
      "       0.0000e+00, 0.0000e+00, 0.0000e+00, 0.0000e+00, 0.0000e+00,\n",
      "       0.0000e+00, 0.0000e+00, 0.0000e+00, 0.0000e+00, 0.0000e+00,\n",
      "       0.0000e+00, 0.0000e+00, 0.0000e+00, 0.0000e+00, 0.0000e+00,\n",
      "       0.0000e+00, 0.0000e+00, 0.0000e+00, 0.0000e+00, 0.0000e+00,\n",
      "       0.0000e+00, 0.0000e+00, 0.0000e+00, 0.0000e+00, 0.0000e+00,\n",
      "       0.0000e+00, 0.0000e+00, 0.0000e+00, 0.0000e+00, 0.0000e+00,\n",
      "       0.0000e+00, 0.0000e+00, 0.0000e+00, 0.0000e+00, 0.0000e+00,\n",
      "       0.0000e+00, 0.0000e+00, 0.0000e+00, 0.0000e+00, 0.0000e+00,\n",
      "       0.0000e+00, 0.0000e+00, 0.0000e+00, 0.0000e+00, 0.0000e+00,\n",
      "       0.0000e+00, 0.0000e+00, 0.0000e+00, 0.0000e+00, 0.0000e+00,\n",
      "       0.0000e+00, 0.0000e+00, 0.0000e+00, 0.0000e+00, 0.0000e+00,\n",
      "       0.0000e+00, 0.0000e+00, 0.0000e+00, 0.0000e+00, 0.0000e+00,\n",
      "       0.0000e+00, 0.0000e+00, 0.0000e+00, 0.0000e+00, 0.0000e+00,\n",
      "       0.0000e+00, 0.0000e+00, 0.0000e+00, 0.0000e+00, 0.0000e+00,\n",
      "       0.0000e+00, 0.0000e+00, 0.0000e+00, 0.0000e+00, 0.0000e+00,\n",
      "       0.0000e+00, 0.0000e+00, 0.0000e+00, 0.0000e+00, 0.0000e+00,\n",
      "       0.0000e+00, 0.0000e+00, 0.0000e+00, 0.0000e+00, 0.0000e+00,\n",
      "       0.0000e+00, 0.0000e+00, 0.0000e+00, 0.0000e+00, 0.0000e+00,\n",
      "       0.0000e+00, 0.0000e+00, 0.0000e+00, 0.0000e+00, 0.0000e+00,\n",
      "       0.0000e+00, 0.0000e+00, 0.0000e+00, 0.0000e+00, 0.0000e+00,\n",
      "       0.0000e+00, 0.0000e+00, 0.0000e+00, 0.0000e+00, 0.0000e+00,\n",
      "       0.0000e+00, 0.0000e+00, 0.0000e+00, 0.0000e+00, 0.0000e+00,\n",
      "       0.0000e+00, 0.0000e+00, 0.0000e+00, 0.0000e+00, 0.0000e+00,\n",
      "       0.0000e+00, 0.0000e+00, 0.0000e+00, 0.0000e+00, 0.0000e+00,\n",
      "       0.0000e+00, 0.0000e+00, 0.0000e+00, 0.0000e+00, 0.0000e+00,\n",
      "       0.0000e+00, 0.0000e+00, 0.0000e+00, 0.0000e+00, 0.0000e+00,\n",
      "       0.0000e+00, 0.0000e+00, 0.0000e+00, 0.0000e+00, 0.0000e+00,\n",
      "       0.0000e+00, 0.0000e+00, 0.0000e+00, 0.0000e+00, 0.0000e+00,\n",
      "       0.0000e+00, 0.0000e+00, 0.0000e+00, 0.0000e+00, 0.0000e+00,\n",
      "       0.0000e+00, 0.0000e+00, 0.0000e+00, 0.0000e+00, 0.0000e+00,\n",
      "       0.0000e+00, 0.0000e+00, 0.0000e+00, 0.0000e+00, 0.0000e+00,\n",
      "       0.0000e+00, 0.0000e+00, 0.0000e+00, 0.0000e+00, 0.0000e+00,\n",
      "       0.0000e+00, 0.0000e+00, 0.0000e+00, 0.0000e+00, 0.0000e+00,\n",
      "       0.0000e+00, 0.0000e+00, 0.0000e+00, 0.0000e+00, 0.0000e+00,\n",
      "       0.0000e+00, 0.0000e+00, 0.0000e+00, 0.0000e+00, 0.0000e+00,\n",
      "       0.0000e+00, 0.0000e+00, 0.0000e+00, 0.0000e+00, 0.0000e+00,\n",
      "       0.0000e+00, 0.0000e+00, 0.0000e+00, 0.0000e+00, 0.0000e+00,\n",
      "       0.0000e+00, 0.0000e+00, 0.0000e+00, 0.0000e+00, 0.0000e+00,\n",
      "       0.0000e+00, 0.0000e+00, 0.0000e+00, 0.0000e+00, 0.0000e+00,\n",
      "       0.0000e+00, 0.0000e+00, 0.0000e+00, 0.0000e+00, 0.0000e+00,\n",
      "       0.0000e+00, 0.0000e+00, 0.0000e+00, 0.0000e+00, 0.0000e+00,\n",
      "       0.0000e+00, 0.0000e+00, 0.0000e+00, 0.0000e+00, 0.0000e+00,\n",
      "       0.0000e+00, 0.0000e+00, 0.0000e+00, 0.0000e+00, 0.0000e+00,\n",
      "       0.0000e+00, 0.0000e+00, 0.0000e+00, 0.0000e+00, 0.0000e+00,\n",
      "       0.0000e+00, 0.0000e+00, 0.0000e+00, 0.0000e+00, 0.0000e+00,\n",
      "       0.0000e+00, 0.0000e+00, 0.0000e+00, 0.0000e+00, 0.0000e+00,\n",
      "       0.0000e+00, 0.0000e+00, 0.0000e+00, 0.0000e+00, 0.0000e+00,\n",
      "       0.0000e+00, 0.0000e+00, 0.0000e+00, 0.0000e+00, 0.0000e+00,\n",
      "       0.0000e+00, 0.0000e+00, 0.0000e+00, 0.0000e+00, 0.0000e+00,\n",
      "       0.0000e+00, 0.0000e+00, 0.0000e+00, 0.0000e+00, 0.0000e+00,\n",
      "       0.0000e+00, 0.0000e+00, 0.0000e+00, 0.0000e+00, 0.0000e+00,\n",
      "       0.0000e+00, 0.0000e+00, 0.0000e+00, 0.0000e+00, 0.0000e+00,\n",
      "       0.0000e+00, 0.0000e+00, 0.0000e+00, 0.0000e+00, 0.0000e+00,\n",
      "       0.0000e+00, 0.0000e+00, 0.0000e+00, 0.0000e+00, 0.0000e+00,\n",
      "       0.0000e+00, 0.0000e+00, 0.0000e+00, 0.0000e+00, 0.0000e+00,\n",
      "       0.0000e+00, 0.0000e+00])>, <tf.Tensor: shape=(512,), dtype=float64, numpy=\n",
      "array([1., 1., 1., 1., 1., 1., 1., 1., 1., 1., 1., 1., 1., 1., 1., 1., 1.,\n",
      "       1., 1., 1., 1., 1., 1., 1., 1., 1., 1., 1., 1., 1., 1., 1., 1., 1.,\n",
      "       1., 1., 1., 1., 1., 1., 1., 1., 1., 1., 1., 1., 1., 1., 1., 1., 1.,\n",
      "       1., 1., 1., 1., 1., 1., 1., 1., 1., 1., 1., 1., 1., 1., 1., 1., 1.,\n",
      "       1., 1., 1., 1., 1., 1., 1., 1., 1., 1., 1., 1., 1., 1., 1., 1., 1.,\n",
      "       1., 1., 1., 1., 1., 1., 1., 1., 1., 1., 1., 1., 1., 1., 1., 1., 1.,\n",
      "       1., 1., 1., 1., 1., 1., 0., 0., 0., 0., 0., 0., 0., 0., 0., 0., 0.,\n",
      "       0., 0., 0., 0., 0., 0., 0., 0., 0., 0., 0., 0., 0., 0., 0., 0., 0.,\n",
      "       0., 0., 0., 0., 0., 0., 0., 0., 0., 0., 0., 0., 0., 0., 0., 0., 0.,\n",
      "       0., 0., 0., 0., 0., 0., 0., 0., 0., 0., 0., 0., 0., 0., 0., 0., 0.,\n",
      "       0., 0., 0., 0., 0., 0., 0., 0., 0., 0., 0., 0., 0., 0., 0., 0., 0.,\n",
      "       0., 0., 0., 0., 0., 0., 0., 0., 0., 0., 0., 0., 0., 0., 0., 0., 0.,\n",
      "       0., 0., 0., 0., 0., 0., 0., 0., 0., 0., 0., 0., 0., 0., 0., 0., 0.,\n",
      "       0., 0., 0., 0., 0., 0., 0., 0., 0., 0., 0., 0., 0., 0., 0., 0., 0.,\n",
      "       0., 0., 0., 0., 0., 0., 0., 0., 0., 0., 0., 0., 0., 0., 0., 0., 0.,\n",
      "       0., 0., 0., 0., 0., 0., 0., 0., 0., 0., 0., 0., 0., 0., 0., 0., 0.,\n",
      "       0., 0., 0., 0., 0., 0., 0., 0., 0., 0., 0., 0., 0., 0., 0., 0., 0.,\n",
      "       0., 0., 0., 0., 0., 0., 0., 0., 0., 0., 0., 0., 0., 0., 0., 0., 0.,\n",
      "       0., 0., 0., 0., 0., 0., 0., 0., 0., 0., 0., 0., 0., 0., 0., 0., 0.,\n",
      "       0., 0., 0., 0., 0., 0., 0., 0., 0., 0., 0., 0., 0., 0., 0., 0., 0.,\n",
      "       0., 0., 0., 0., 0., 0., 0., 0., 0., 0., 0., 0., 0., 0., 0., 0., 0.,\n",
      "       0., 0., 0., 0., 0., 0., 0., 0., 0., 0., 0., 0., 0., 0., 0., 0., 0.,\n",
      "       0., 0., 0., 0., 0., 0., 0., 0., 0., 0., 0., 0., 0., 0., 0., 0., 0.,\n",
      "       0., 0., 0., 0., 0., 0., 0., 0., 0., 0., 0., 0., 0., 0., 0., 0., 0.,\n",
      "       0., 0., 0., 0., 0., 0., 0., 0., 0., 0., 0., 0., 0., 0., 0., 0., 0.,\n",
      "       0., 0., 0., 0., 0., 0., 0., 0., 0., 0., 0., 0., 0., 0., 0., 0., 0.,\n",
      "       0., 0., 0., 0., 0., 0., 0., 0., 0., 0., 0., 0., 0., 0., 0., 0., 0.,\n",
      "       0., 0., 0., 0., 0., 0., 0., 0., 0., 0., 0., 0., 0., 0., 0., 0., 0.,\n",
      "       0., 0., 0., 0., 0., 0., 0., 0., 0., 0., 0., 0., 0., 0., 0., 0., 0.,\n",
      "       0., 0., 0., 0., 0., 0., 0., 0., 0., 0., 0., 0., 0., 0., 0., 0., 0.,\n",
      "       0., 0.])>, <tf.Tensor: shape=(9,), dtype=float64, numpy=array([0., 0., 0., 0., 0., 1., 0., 0., 0.])>)\n"
     ]
    }
   ],
   "source": [
    "train_dataset = tf.data.Dataset.from_tensor_slices((Xids, Xmask, onehot_train))  # create train tensor dataset \n",
    "test_dataset = tf.data.Dataset.from_tensor_slices((Tids, Tmask, onehot_test))  # create test tensor dataset\n",
    "\n",
    "for data in train_dataset.take(1):\n",
    "    print(data)"
   ]
  },
  {
   "cell_type": "code",
   "execution_count": 10,
   "id": "e98f8e20",
   "metadata": {},
   "outputs": [
    {
     "name": "stdout",
     "output_type": "stream",
     "text": [
      "({'input_ids': <tf.Tensor: shape=(512,), dtype=float64, numpy=\n",
      "array([3.0000e+00, 2.4390e+03, 2.6935e+04, 1.1200e+02, 3.5200e+02,\n",
      "       5.1900e+02, 5.4830e+03, 2.2940e+03, 2.5500e+02, 1.3936e+04,\n",
      "       1.4700e+02, 2.6914e+04, 2.3190e+03, 2.0000e+00, 1.2031e+04,\n",
      "       4.2800e+02, 1.0800e+03, 2.2940e+03, 2.5500e+02, 1.3936e+04,\n",
      "       1.1500e+02, 4.6680e+03, 1.4920e+04, 2.9340e+03, 3.0750e+03,\n",
      "       7.5320e+03, 2.6908e+04, 1.1721e+04, 2.6914e+04, 2.3300e+02,\n",
      "       1.0600e+02, 2.9420e+03, 1.4700e+02, 2.1080e+04, 3.9340e+03,\n",
      "       2.6897e+04, 2.4390e+03, 2.6935e+04, 1.1200e+02, 3.5200e+02,\n",
      "       2.8800e+02, 1.4201e+04, 7.8500e+02, 1.1310e+03, 2.6964e+04,\n",
      "       4.0000e+02, 2.6935e+04, 2.1040e+03, 2.0132e+04, 1.5904e+04,\n",
      "       3.8300e+02, 1.7240e+03, 1.0859e+04, 2.6903e+04, 3.2210e+03,\n",
      "       1.8280e+03, 6.6580e+03, 1.8050e+04, 2.7000e+02, 2.3500e+02,\n",
      "       5.1800e+03, 3.0300e+02, 7.1700e+02, 8.2460e+03, 9.1000e+01,\n",
      "       2.8790e+03, 4.4330e+03, 1.6000e+01, 1.0600e+02, 6.8550e+03,\n",
      "       1.3163e+04, 2.6918e+04, 2.4600e+02, 1.5500e+02, 1.7215e+04,\n",
      "       1.1900e+03, 1.9830e+04, 2.6935e+04, 6.5010e+03, 2.3500e+02,\n",
      "       4.6320e+03, 1.1357e+04, 2.6914e+04, 7.5320e+03, 2.6908e+04,\n",
      "       1.5980e+03, 1.5500e+02, 1.5000e+02, 1.1913e+04, 2.6918e+04,\n",
      "       1.0800e+03, 3.8600e+02, 1.4900e+02, 8.7400e+03, 3.2100e+02,\n",
      "       2.6600e+02, 2.6914e+04, 7.1970e+03, 1.3020e+03, 7.8700e+02,\n",
      "       1.5500e+02, 3.8000e+02, 2.0857e+04, 2.8800e+02, 1.2143e+04,\n",
      "       2.7210e+03, 2.6914e+04, 4.0000e+00, 0.0000e+00, 0.0000e+00,\n",
      "       0.0000e+00, 0.0000e+00, 0.0000e+00, 0.0000e+00, 0.0000e+00,\n",
      "       0.0000e+00, 0.0000e+00, 0.0000e+00, 0.0000e+00, 0.0000e+00,\n",
      "       0.0000e+00, 0.0000e+00, 0.0000e+00, 0.0000e+00, 0.0000e+00,\n",
      "       0.0000e+00, 0.0000e+00, 0.0000e+00, 0.0000e+00, 0.0000e+00,\n",
      "       0.0000e+00, 0.0000e+00, 0.0000e+00, 0.0000e+00, 0.0000e+00,\n",
      "       0.0000e+00, 0.0000e+00, 0.0000e+00, 0.0000e+00, 0.0000e+00,\n",
      "       0.0000e+00, 0.0000e+00, 0.0000e+00, 0.0000e+00, 0.0000e+00,\n",
      "       0.0000e+00, 0.0000e+00, 0.0000e+00, 0.0000e+00, 0.0000e+00,\n",
      "       0.0000e+00, 0.0000e+00, 0.0000e+00, 0.0000e+00, 0.0000e+00,\n",
      "       0.0000e+00, 0.0000e+00, 0.0000e+00, 0.0000e+00, 0.0000e+00,\n",
      "       0.0000e+00, 0.0000e+00, 0.0000e+00, 0.0000e+00, 0.0000e+00,\n",
      "       0.0000e+00, 0.0000e+00, 0.0000e+00, 0.0000e+00, 0.0000e+00,\n",
      "       0.0000e+00, 0.0000e+00, 0.0000e+00, 0.0000e+00, 0.0000e+00,\n",
      "       0.0000e+00, 0.0000e+00, 0.0000e+00, 0.0000e+00, 0.0000e+00,\n",
      "       0.0000e+00, 0.0000e+00, 0.0000e+00, 0.0000e+00, 0.0000e+00,\n",
      "       0.0000e+00, 0.0000e+00, 0.0000e+00, 0.0000e+00, 0.0000e+00,\n",
      "       0.0000e+00, 0.0000e+00, 0.0000e+00, 0.0000e+00, 0.0000e+00,\n",
      "       0.0000e+00, 0.0000e+00, 0.0000e+00, 0.0000e+00, 0.0000e+00,\n",
      "       0.0000e+00, 0.0000e+00, 0.0000e+00, 0.0000e+00, 0.0000e+00,\n",
      "       0.0000e+00, 0.0000e+00, 0.0000e+00, 0.0000e+00, 0.0000e+00,\n",
      "       0.0000e+00, 0.0000e+00, 0.0000e+00, 0.0000e+00, 0.0000e+00,\n",
      "       0.0000e+00, 0.0000e+00, 0.0000e+00, 0.0000e+00, 0.0000e+00,\n",
      "       0.0000e+00, 0.0000e+00, 0.0000e+00, 0.0000e+00, 0.0000e+00,\n",
      "       0.0000e+00, 0.0000e+00, 0.0000e+00, 0.0000e+00, 0.0000e+00,\n",
      "       0.0000e+00, 0.0000e+00, 0.0000e+00, 0.0000e+00, 0.0000e+00,\n",
      "       0.0000e+00, 0.0000e+00, 0.0000e+00, 0.0000e+00, 0.0000e+00,\n",
      "       0.0000e+00, 0.0000e+00, 0.0000e+00, 0.0000e+00, 0.0000e+00,\n",
      "       0.0000e+00, 0.0000e+00, 0.0000e+00, 0.0000e+00, 0.0000e+00,\n",
      "       0.0000e+00, 0.0000e+00, 0.0000e+00, 0.0000e+00, 0.0000e+00,\n",
      "       0.0000e+00, 0.0000e+00, 0.0000e+00, 0.0000e+00, 0.0000e+00,\n",
      "       0.0000e+00, 0.0000e+00, 0.0000e+00, 0.0000e+00, 0.0000e+00,\n",
      "       0.0000e+00, 0.0000e+00, 0.0000e+00, 0.0000e+00, 0.0000e+00,\n",
      "       0.0000e+00, 0.0000e+00, 0.0000e+00, 0.0000e+00, 0.0000e+00,\n",
      "       0.0000e+00, 0.0000e+00, 0.0000e+00, 0.0000e+00, 0.0000e+00,\n",
      "       0.0000e+00, 0.0000e+00, 0.0000e+00, 0.0000e+00, 0.0000e+00,\n",
      "       0.0000e+00, 0.0000e+00, 0.0000e+00, 0.0000e+00, 0.0000e+00,\n",
      "       0.0000e+00, 0.0000e+00, 0.0000e+00, 0.0000e+00, 0.0000e+00,\n",
      "       0.0000e+00, 0.0000e+00, 0.0000e+00, 0.0000e+00, 0.0000e+00,\n",
      "       0.0000e+00, 0.0000e+00, 0.0000e+00, 0.0000e+00, 0.0000e+00,\n",
      "       0.0000e+00, 0.0000e+00, 0.0000e+00, 0.0000e+00, 0.0000e+00,\n",
      "       0.0000e+00, 0.0000e+00, 0.0000e+00, 0.0000e+00, 0.0000e+00,\n",
      "       0.0000e+00, 0.0000e+00, 0.0000e+00, 0.0000e+00, 0.0000e+00,\n",
      "       0.0000e+00, 0.0000e+00, 0.0000e+00, 0.0000e+00, 0.0000e+00,\n",
      "       0.0000e+00, 0.0000e+00, 0.0000e+00, 0.0000e+00, 0.0000e+00,\n",
      "       0.0000e+00, 0.0000e+00, 0.0000e+00, 0.0000e+00, 0.0000e+00,\n",
      "       0.0000e+00, 0.0000e+00, 0.0000e+00, 0.0000e+00, 0.0000e+00,\n",
      "       0.0000e+00, 0.0000e+00, 0.0000e+00, 0.0000e+00, 0.0000e+00,\n",
      "       0.0000e+00, 0.0000e+00, 0.0000e+00, 0.0000e+00, 0.0000e+00,\n",
      "       0.0000e+00, 0.0000e+00, 0.0000e+00, 0.0000e+00, 0.0000e+00,\n",
      "       0.0000e+00, 0.0000e+00, 0.0000e+00, 0.0000e+00, 0.0000e+00,\n",
      "       0.0000e+00, 0.0000e+00, 0.0000e+00, 0.0000e+00, 0.0000e+00,\n",
      "       0.0000e+00, 0.0000e+00, 0.0000e+00, 0.0000e+00, 0.0000e+00,\n",
      "       0.0000e+00, 0.0000e+00, 0.0000e+00, 0.0000e+00, 0.0000e+00,\n",
      "       0.0000e+00, 0.0000e+00, 0.0000e+00, 0.0000e+00, 0.0000e+00,\n",
      "       0.0000e+00, 0.0000e+00, 0.0000e+00, 0.0000e+00, 0.0000e+00,\n",
      "       0.0000e+00, 0.0000e+00, 0.0000e+00, 0.0000e+00, 0.0000e+00,\n",
      "       0.0000e+00, 0.0000e+00, 0.0000e+00, 0.0000e+00, 0.0000e+00,\n",
      "       0.0000e+00, 0.0000e+00, 0.0000e+00, 0.0000e+00, 0.0000e+00,\n",
      "       0.0000e+00, 0.0000e+00, 0.0000e+00, 0.0000e+00, 0.0000e+00,\n",
      "       0.0000e+00, 0.0000e+00, 0.0000e+00, 0.0000e+00, 0.0000e+00,\n",
      "       0.0000e+00, 0.0000e+00, 0.0000e+00, 0.0000e+00, 0.0000e+00,\n",
      "       0.0000e+00, 0.0000e+00, 0.0000e+00, 0.0000e+00, 0.0000e+00,\n",
      "       0.0000e+00, 0.0000e+00, 0.0000e+00, 0.0000e+00, 0.0000e+00,\n",
      "       0.0000e+00, 0.0000e+00, 0.0000e+00, 0.0000e+00, 0.0000e+00,\n",
      "       0.0000e+00, 0.0000e+00, 0.0000e+00, 0.0000e+00, 0.0000e+00,\n",
      "       0.0000e+00, 0.0000e+00, 0.0000e+00, 0.0000e+00, 0.0000e+00,\n",
      "       0.0000e+00, 0.0000e+00, 0.0000e+00, 0.0000e+00, 0.0000e+00,\n",
      "       0.0000e+00, 0.0000e+00, 0.0000e+00, 0.0000e+00, 0.0000e+00,\n",
      "       0.0000e+00, 0.0000e+00, 0.0000e+00, 0.0000e+00, 0.0000e+00,\n",
      "       0.0000e+00, 0.0000e+00, 0.0000e+00, 0.0000e+00, 0.0000e+00,\n",
      "       0.0000e+00, 0.0000e+00, 0.0000e+00, 0.0000e+00, 0.0000e+00,\n",
      "       0.0000e+00, 0.0000e+00, 0.0000e+00, 0.0000e+00, 0.0000e+00,\n",
      "       0.0000e+00, 0.0000e+00, 0.0000e+00, 0.0000e+00, 0.0000e+00,\n",
      "       0.0000e+00, 0.0000e+00, 0.0000e+00, 0.0000e+00, 0.0000e+00,\n",
      "       0.0000e+00, 0.0000e+00, 0.0000e+00, 0.0000e+00, 0.0000e+00,\n",
      "       0.0000e+00, 0.0000e+00, 0.0000e+00, 0.0000e+00, 0.0000e+00,\n",
      "       0.0000e+00, 0.0000e+00, 0.0000e+00, 0.0000e+00, 0.0000e+00,\n",
      "       0.0000e+00, 0.0000e+00, 0.0000e+00, 0.0000e+00, 0.0000e+00,\n",
      "       0.0000e+00, 0.0000e+00, 0.0000e+00, 0.0000e+00, 0.0000e+00,\n",
      "       0.0000e+00, 0.0000e+00, 0.0000e+00, 0.0000e+00, 0.0000e+00,\n",
      "       0.0000e+00, 0.0000e+00])>, 'attention_mask': <tf.Tensor: shape=(512,), dtype=float64, numpy=\n",
      "array([1., 1., 1., 1., 1., 1., 1., 1., 1., 1., 1., 1., 1., 1., 1., 1., 1.,\n",
      "       1., 1., 1., 1., 1., 1., 1., 1., 1., 1., 1., 1., 1., 1., 1., 1., 1.,\n",
      "       1., 1., 1., 1., 1., 1., 1., 1., 1., 1., 1., 1., 1., 1., 1., 1., 1.,\n",
      "       1., 1., 1., 1., 1., 1., 1., 1., 1., 1., 1., 1., 1., 1., 1., 1., 1.,\n",
      "       1., 1., 1., 1., 1., 1., 1., 1., 1., 1., 1., 1., 1., 1., 1., 1., 1.,\n",
      "       1., 1., 1., 1., 1., 1., 1., 1., 1., 1., 1., 1., 1., 1., 1., 1., 1.,\n",
      "       1., 1., 1., 1., 1., 1., 0., 0., 0., 0., 0., 0., 0., 0., 0., 0., 0.,\n",
      "       0., 0., 0., 0., 0., 0., 0., 0., 0., 0., 0., 0., 0., 0., 0., 0., 0.,\n",
      "       0., 0., 0., 0., 0., 0., 0., 0., 0., 0., 0., 0., 0., 0., 0., 0., 0.,\n",
      "       0., 0., 0., 0., 0., 0., 0., 0., 0., 0., 0., 0., 0., 0., 0., 0., 0.,\n",
      "       0., 0., 0., 0., 0., 0., 0., 0., 0., 0., 0., 0., 0., 0., 0., 0., 0.,\n",
      "       0., 0., 0., 0., 0., 0., 0., 0., 0., 0., 0., 0., 0., 0., 0., 0., 0.,\n",
      "       0., 0., 0., 0., 0., 0., 0., 0., 0., 0., 0., 0., 0., 0., 0., 0., 0.,\n",
      "       0., 0., 0., 0., 0., 0., 0., 0., 0., 0., 0., 0., 0., 0., 0., 0., 0.,\n",
      "       0., 0., 0., 0., 0., 0., 0., 0., 0., 0., 0., 0., 0., 0., 0., 0., 0.,\n",
      "       0., 0., 0., 0., 0., 0., 0., 0., 0., 0., 0., 0., 0., 0., 0., 0., 0.,\n",
      "       0., 0., 0., 0., 0., 0., 0., 0., 0., 0., 0., 0., 0., 0., 0., 0., 0.,\n",
      "       0., 0., 0., 0., 0., 0., 0., 0., 0., 0., 0., 0., 0., 0., 0., 0., 0.,\n",
      "       0., 0., 0., 0., 0., 0., 0., 0., 0., 0., 0., 0., 0., 0., 0., 0., 0.,\n",
      "       0., 0., 0., 0., 0., 0., 0., 0., 0., 0., 0., 0., 0., 0., 0., 0., 0.,\n",
      "       0., 0., 0., 0., 0., 0., 0., 0., 0., 0., 0., 0., 0., 0., 0., 0., 0.,\n",
      "       0., 0., 0., 0., 0., 0., 0., 0., 0., 0., 0., 0., 0., 0., 0., 0., 0.,\n",
      "       0., 0., 0., 0., 0., 0., 0., 0., 0., 0., 0., 0., 0., 0., 0., 0., 0.,\n",
      "       0., 0., 0., 0., 0., 0., 0., 0., 0., 0., 0., 0., 0., 0., 0., 0., 0.,\n",
      "       0., 0., 0., 0., 0., 0., 0., 0., 0., 0., 0., 0., 0., 0., 0., 0., 0.,\n",
      "       0., 0., 0., 0., 0., 0., 0., 0., 0., 0., 0., 0., 0., 0., 0., 0., 0.,\n",
      "       0., 0., 0., 0., 0., 0., 0., 0., 0., 0., 0., 0., 0., 0., 0., 0., 0.,\n",
      "       0., 0., 0., 0., 0., 0., 0., 0., 0., 0., 0., 0., 0., 0., 0., 0., 0.,\n",
      "       0., 0., 0., 0., 0., 0., 0., 0., 0., 0., 0., 0., 0., 0., 0., 0., 0.,\n",
      "       0., 0., 0., 0., 0., 0., 0., 0., 0., 0., 0., 0., 0., 0., 0., 0., 0.,\n",
      "       0., 0.])>}, <tf.Tensor: shape=(9,), dtype=float64, numpy=array([0., 0., 0., 0., 0., 1., 0., 0., 0.])>)\n"
     ]
    }
   ],
   "source": [
    "# create dataset for BERT input\n",
    "def _map_func(ids, masks, labels):\n",
    "    return {'input_ids': ids, 'attention_mask': masks}, labels\n",
    "\n",
    "train_dataset = train_dataset.map(_map_func)\n",
    "test_dataset = test_dataset.map(_map_func)\n",
    "\n",
    "for data in train_dataset.take(1):\n",
    "    print(data)"
   ]
  },
  {
   "cell_type": "code",
   "execution_count": 11,
   "id": "293cfa5d",
   "metadata": {},
   "outputs": [
    {
     "name": "stdout",
     "output_type": "stream",
     "text": [
      "({'input_ids': <tf.Tensor: shape=(32, 512), dtype=float64, numpy=\n",
      "array([[3.0000e+00, 2.6822e+04, 4.4090e+03, ..., 0.0000e+00, 0.0000e+00,\n",
      "        0.0000e+00],\n",
      "       [3.0000e+00, 1.2045e+04, 2.8800e+02, ..., 4.0000e+00, 0.0000e+00,\n",
      "        0.0000e+00],\n",
      "       [3.0000e+00, 2.4100e+02, 3.3000e+01, ..., 0.0000e+00, 0.0000e+00,\n",
      "        0.0000e+00],\n",
      "       ...,\n",
      "       [3.0000e+00, 1.5939e+04, 1.7262e+04, ..., 2.6955e+04, 2.6914e+04,\n",
      "        4.0000e+00],\n",
      "       [3.0000e+00, 8.4310e+03, 4.4500e+03, ..., 0.0000e+00, 0.0000e+00,\n",
      "        0.0000e+00],\n",
      "       [3.0000e+00, 4.7930e+03, 1.1400e+02, ..., 0.0000e+00, 0.0000e+00,\n",
      "        0.0000e+00]])>, 'attention_mask': <tf.Tensor: shape=(32, 512), dtype=float64, numpy=\n",
      "array([[1., 1., 1., ..., 0., 0., 0.],\n",
      "       [1., 1., 1., ..., 1., 0., 0.],\n",
      "       [1., 1., 1., ..., 0., 0., 0.],\n",
      "       ...,\n",
      "       [1., 1., 1., ..., 1., 1., 1.],\n",
      "       [1., 1., 1., ..., 0., 0., 0.],\n",
      "       [1., 1., 1., ..., 0., 0., 0.]])>}, <tf.Tensor: shape=(32, 9), dtype=float64, numpy=\n",
      "array([[0., 0., 0., 0., 0., 1., 0., 0., 0.],\n",
      "       [0., 0., 0., 0., 0., 0., 1., 0., 0.],\n",
      "       [0., 0., 0., 0., 0., 0., 1., 0., 0.],\n",
      "       [0., 0., 0., 0., 1., 0., 0., 0., 0.],\n",
      "       [0., 1., 0., 0., 0., 0., 0., 0., 0.],\n",
      "       [0., 0., 0., 0., 0., 0., 0., 1., 0.],\n",
      "       [0., 1., 0., 0., 0., 0., 0., 0., 0.],\n",
      "       [0., 0., 0., 0., 0., 0., 0., 1., 0.],\n",
      "       [0., 0., 0., 0., 0., 0., 0., 1., 0.],\n",
      "       [0., 0., 1., 0., 0., 0., 0., 0., 0.],\n",
      "       [1., 0., 0., 0., 0., 0., 0., 0., 0.],\n",
      "       [0., 0., 0., 0., 0., 0., 0., 1., 0.],\n",
      "       [0., 0., 0., 0., 0., 0., 1., 0., 0.],\n",
      "       [0., 1., 0., 0., 0., 0., 0., 0., 0.],\n",
      "       [0., 1., 0., 0., 0., 0., 0., 0., 0.],\n",
      "       [0., 0., 0., 0., 1., 0., 0., 0., 0.],\n",
      "       [0., 0., 0., 1., 0., 0., 0., 0., 0.],\n",
      "       [0., 0., 0., 0., 1., 0., 0., 0., 0.],\n",
      "       [1., 0., 0., 0., 0., 0., 0., 0., 0.],\n",
      "       [0., 0., 0., 0., 0., 0., 1., 0., 0.],\n",
      "       [0., 0., 0., 0., 1., 0., 0., 0., 0.],\n",
      "       [0., 0., 0., 0., 0., 0., 1., 0., 0.],\n",
      "       [0., 0., 0., 0., 0., 0., 1., 0., 0.],\n",
      "       [0., 1., 0., 0., 0., 0., 0., 0., 0.],\n",
      "       [0., 0., 1., 0., 0., 0., 0., 0., 0.],\n",
      "       [0., 0., 1., 0., 0., 0., 0., 0., 0.],\n",
      "       [0., 0., 1., 0., 0., 0., 0., 0., 0.],\n",
      "       [1., 0., 0., 0., 0., 0., 0., 0., 0.],\n",
      "       [0., 0., 1., 0., 0., 0., 0., 0., 0.],\n",
      "       [0., 0., 0., 0., 0., 1., 0., 0., 0.],\n",
      "       [0., 0., 0., 0., 0., 0., 0., 0., 1.],\n",
      "       [0., 0., 0., 0., 0., 0., 1., 0., 0.]])>)\n"
     ]
    }
   ],
   "source": [
    "train_dataset = train_dataset.shuffle(len(train_dataset)).batch(32, drop_remainder=True)  # shuffle and batch trainings data\n",
    "test_dataset = test_dataset.shuffle(len(test_dataset)).batch(32, drop_remainder=True)  # shuffle and batch test data\n",
    "\n",
    "for data in train_dataset.take(1):\n",
    "    print(data)"
   ]
  },
  {
   "cell_type": "code",
   "execution_count": 13,
   "id": "9eb16664",
   "metadata": {},
   "outputs": [
    {
     "name": "stderr",
     "output_type": "stream",
     "text": [
      "Some layers from the model checkpoint at bert-base-german-cased were not used when initializing TFBertModel: ['nsp___cls', 'mlm___cls']\n",
      "- This IS expected if you are initializing TFBertModel from the checkpoint of a model trained on another task or with another architecture (e.g. initializing a BertForSequenceClassification model from a BertForPreTraining model).\n",
      "- This IS NOT expected if you are initializing TFBertModel from the checkpoint of a model that you expect to be exactly identical (initializing a BertForSequenceClassification model from a BertForSequenceClassification model).\n",
      "All the layers of TFBertModel were initialized from the model checkpoint at bert-base-german-cased.\n",
      "If your task is similar to the task the model of the checkpoint was trained on, you can already use TFBertModel for predictions without further training.\n"
     ]
    },
    {
     "name": "stdout",
     "output_type": "stream",
     "text": [
      "Model: \"tf_bert_model\"\n",
      "_________________________________________________________________\n",
      "Layer (type)                 Output Shape              Param #   \n",
      "=================================================================\n",
      "bert (TFBertMainLayer)       multiple                  109081344 \n",
      "=================================================================\n",
      "Total params: 109,081,344\n",
      "Trainable params: 109,081,344\n",
      "Non-trainable params: 0\n",
      "_________________________________________________________________\n"
     ]
    }
   ],
   "source": [
    "bert = TFAutoModel.from_pretrained('bert-base-german-cased')  # initialize BERT model\n",
    "bert.summary()"
   ]
  },
  {
   "cell_type": "code",
   "execution_count": 14,
   "id": "7065d998",
   "metadata": {},
   "outputs": [
    {
     "name": "stdout",
     "output_type": "stream",
     "text": [
      "WARNING:tensorflow:From /home/chris/anaconda3/envs/LS1_nlp/lib/python3.8/site-packages/tensorflow/python/ops/array_ops.py:5043: calling gather (from tensorflow.python.ops.array_ops) with validate_indices is deprecated and will be removed in a future version.\n",
      "Instructions for updating:\n",
      "The `validate_indices` argument has no effect. Indices are always validated on CPU and never validated on GPU.\n",
      "Model: \"model\"\n",
      "__________________________________________________________________________________________________\n",
      "Layer (type)                    Output Shape         Param #     Connected to                     \n",
      "==================================================================================================\n",
      "input_ids (InputLayer)          [(None, 512)]        0                                            \n",
      "__________________________________________________________________________________________________\n",
      "attention_mask (InputLayer)     [(None, 512)]        0                                            \n",
      "__________________________________________________________________________________________________\n",
      "bert (TFBertMainLayer)          TFBaseModelOutputWit 109081344   input_ids[0][0]                  \n",
      "                                                                 attention_mask[0][0]             \n",
      "__________________________________________________________________________________________________\n",
      "dense (Dense)                   (None, 1024)         787456      bert[0][1]                       \n",
      "__________________________________________________________________________________________________\n",
      "outputs (Dense)                 (None, 9)            9225        dense[0][0]                      \n",
      "==================================================================================================\n",
      "Total params: 109,878,025\n",
      "Trainable params: 796,681\n",
      "Non-trainable params: 109,081,344\n",
      "__________________________________________________________________________________________________\n"
     ]
    }
   ],
   "source": [
    "input_ids = tf.keras.layers.Input(shape=(SEQ_LEN,), name='input_ids', dtype='int32')  # initialize input_ids as a model layer\n",
    "mask = tf.keras.layers.Input(shape=(SEQ_LEN,), name='attention_mask', dtype='int32')  # init attention_mask as a model layer\n",
    "embeddings = bert.bert(input_ids, attention_mask=mask)[1]  # create BERT model with input_id and attention_mask\n",
    "\n",
    "X = tf.keras.layers.Dense(1024, activation='relu')(embeddings)  # linear layer\n",
    "y = tf.keras.layers.Dense(len(onehot_train[0]), activation='softmax', name='outputs')(X)  # softmax for classification problem\n",
    "\n",
    "model = tf.keras.Model(inputs=[input_ids, mask], outputs=y)  # convert layers to a model\n",
    "\n",
    "model.layers[2].trainable=False  # do not train BERT as it slows down the training\n",
    "\n",
    "model.summary()"
   ]
  },
  {
   "cell_type": "code",
   "execution_count": 15,
   "id": "1790f8ef",
   "metadata": {},
   "outputs": [],
   "source": [
    "optimizer = tf.keras.optimizers.Adam(learning_rate=2e-5, beta_1=0.9, beta_2=0.999, epsilon=1e-6)  # init ADAM as optimizer\n",
    "loss = tf.keras.losses.CategoricalCrossentropy()  # init Categorical Crossentropy as loss function\n",
    "metrics = ['accuracy', tfa.metrics.F1Score(average='macro', num_classes=len(onehot_train[0]), name='macro_average'), tfa.metrics.F1Score(average='micro', num_classes=len(onehot_train[0]), name='micro_average')]  # define metrics (accuracy, macro F1, micro F1)\n",
    "\n",
    "model.compile(optimizer=optimizer, loss=loss, metrics=metrics)  # compile model with optimizer, loss and metrics"
   ]
  },
  {
   "cell_type": "code",
   "execution_count": 16,
   "id": "52a7d575",
   "metadata": {},
   "outputs": [
    {
     "name": "stdout",
     "output_type": "stream",
     "text": [
      "Epoch 1/4\n",
      "288/288 [==============================] - ETA: 0s - loss: 0.8256 - accuracy: 0.7214 - macro_average: 0.7072 - micro_average: 0.7214 "
     ]
    },
    {
     "name": "stderr",
     "output_type": "stream",
     "text": [
      "/home/chris/anaconda3/envs/LS1_nlp/lib/python3.8/site-packages/tensorflow/python/keras/metrics.py:254: UserWarning: Metric F1Score implements a `reset_states()` method; rename it to `reset_state()` (without the final \"s\"). The name `reset_states()` has been deprecated to improve API consistency.\n",
      "  warnings.warn('Metric %s implements a `reset_states()` method; rename it '\n"
     ]
    },
    {
     "name": "stdout",
     "output_type": "stream",
     "text": [
      "288/288 [==============================] - 4311s 15s/step - loss: 0.8256 - accuracy: 0.7214 - macro_average: 0.7072 - micro_average: 0.7214 - val_loss: 0.5876 - val_accuracy: 0.7871 - val_macro_average: 0.7822 - val_micro_average: 0.7871\n",
      "Epoch 2/4\n",
      "288/288 [==============================] - 4290s 15s/step - loss: 0.6092 - accuracy: 0.7857 - macro_average: 0.7792 - micro_average: 0.7857 - val_loss: 0.4974 - val_accuracy: 0.8262 - val_macro_average: 0.8261 - val_micro_average: 0.8262\n",
      "Epoch 3/4\n",
      "288/288 [==============================] - 4298s 15s/step - loss: 0.5666 - accuracy: 0.8053 - macro_average: 0.8004 - micro_average: 0.8053 - val_loss: 0.5047 - val_accuracy: 0.8174 - val_macro_average: 0.8114 - val_micro_average: 0.8174\n",
      "Epoch 4/4\n",
      "288/288 [==============================] - 4287s 15s/step - loss: 0.5276 - accuracy: 0.8156 - macro_average: 0.8141 - micro_average: 0.8156 - val_loss: 0.5399 - val_accuracy: 0.8018 - val_macro_average: 0.7887 - val_micro_average: 0.8018\n"
     ]
    }
   ],
   "source": [
    "# train BERT model and validate each epoch with the test dataset, save the training steps in history\n",
    "history = model.fit(train_dataset,\n",
    "                    validation_data = test_dataset,\n",
    "                    epochs=4)"
   ]
  },
  {
   "cell_type": "code",
   "execution_count": 17,
   "id": "810300ab",
   "metadata": {},
   "outputs": [
    {
     "name": "stderr",
     "output_type": "stream",
     "text": [
      "WARNING:absl:Found untraced functions such as embeddings_layer_call_fn, embeddings_layer_call_and_return_conditional_losses, encoder_layer_call_fn, encoder_layer_call_and_return_conditional_losses, pooler_layer_call_fn while saving (showing 5 of 1055). These functions will not be directly callable after loading.\n",
      "/home/chris/anaconda3/envs/LS1_nlp/lib/python3.8/site-packages/tensorflow/python/keras/utils/generic_utils.py:494: CustomMaskWarning: Custom mask layers require a config and must override get_config. When loading, the custom mask layer must be passed to the custom_objects argument.\n",
      "  warnings.warn('Custom mask layers require a config and must override '\n"
     ]
    },
    {
     "name": "stdout",
     "output_type": "stream",
     "text": [
      "INFO:tensorflow:Assets written to: bert_250_adamax/assets\n"
     ]
    },
    {
     "name": "stderr",
     "output_type": "stream",
     "text": [
      "INFO:tensorflow:Assets written to: bert_250_adamax/assets\n"
     ]
    }
   ],
   "source": [
    "#model.save('bert_512_adamax')  # save the trained model"
   ]
  },
  {
   "cell_type": "code",
   "execution_count": null,
   "id": "431a24ca",
   "metadata": {},
   "outputs": [],
   "source": [
    "#model = tf.keras.models.load_model('bert_512_adamax')  # load the model"
   ]
  },
  {
   "cell_type": "code",
   "execution_count": 18,
   "id": "ca7a5c51",
   "metadata": {},
   "outputs": [],
   "source": [
    "# function for auto tokenization of a text string\n",
    "\n",
    "def tokenize_data(text, tokenizer=BertTokenizer.from_pretrained('bert-base-german-cased')):\n",
    "    tokens = tokenizer.encode_plus(text, max_length=512,\n",
    "                                   truncation=True, padding='max_length',\n",
    "                                   add_special_tokens=True, return_token_type_ids=False,\n",
    "                                   return_tensors='tf')\n",
    "    return {'input_ids': tf.cast(tokens['input_ids'], tf.float64), \n",
    "            'attention_mask': tf.cast(tokens['attention_mask'], tf.float64)}"
   ]
  },
  {
   "cell_type": "code",
   "execution_count": 19,
   "id": "e0e2388f",
   "metadata": {},
   "outputs": [],
   "source": [
    "# make predictions with the model on the tokenized data\n",
    "\n",
    "def make_prediction(tokenized_data, model=model, groups=train.group):\n",
    "    probs = model.predict(tokenized_data)[0]\n",
    "    return sorted(set(groups))[np.argmax(probs)]"
   ]
  },
  {
   "cell_type": "code",
   "execution_count": 20,
   "id": "4a3e42c7",
   "metadata": {},
   "outputs": [
    {
     "data": {
      "text/plain": [
       "group                                                  Web\n",
       "text     Die neue Akkuhülle ist nicht das einzige Produ...\n",
       "Name: 100, dtype: object"
      ]
     },
     "execution_count": 20,
     "metadata": {},
     "output_type": "execute_result"
    }
   ],
   "source": [
    "test.iloc[100]"
   ]
  },
  {
   "cell_type": "code",
   "execution_count": 21,
   "id": "fc7cb269",
   "metadata": {},
   "outputs": [],
   "source": [
    "new_test = tokenize_data(test.text[100])  # tokenize data"
   ]
  },
  {
   "cell_type": "code",
   "execution_count": 22,
   "id": "19a5b3d7",
   "metadata": {},
   "outputs": [
    {
     "data": {
      "text/plain": [
       "('Web', 'Web')"
      ]
     },
     "execution_count": 22,
     "metadata": {},
     "output_type": "execute_result"
    }
   ],
   "source": [
    "make_prediction(new_test), test.group[100]  # predict tokenized data"
   ]
  },
  {
   "cell_type": "code",
   "execution_count": 23,
   "id": "0d3eec0c",
   "metadata": {},
   "outputs": [],
   "source": [
    "# Confusion Matrix\n",
    "import pandas as pd\n",
    "import seaborn as sns\n",
    "import matplotlib.pyplot as plt"
   ]
  },
  {
   "cell_type": "code",
   "execution_count": 24,
   "id": "ef3b6ed3",
   "metadata": {},
   "outputs": [],
   "source": [
    "# predict all classes from the test data\n",
    "predicted_class = list()\n",
    "for text in test.text:\n",
    "    predicted_class.append(make_prediction(tokenize_data(text)))"
   ]
  },
  {
   "cell_type": "code",
   "execution_count": 29,
   "id": "a55fc423",
   "metadata": {},
   "outputs": [],
   "source": [
    "#encode actual class for confusion matrix\n",
    "label = LabelEncoder()\n",
    "label.fit(train.group)\n",
    "int_data_act = label.transform(test.group)\n",
    "int_data_act = int_data_act.reshape(len(int_data_act), 1)\n",
    "\n",
    "#encode predicted class for confusion matrix\n",
    "int_data_pred = label.transform(predicted_class)\n",
    "int_data_pred = int_data_pred.reshape(len(int_data_pred), 1)"
   ]
  },
  {
   "cell_type": "code",
   "execution_count": 30,
   "id": "2c2e667b",
   "metadata": {},
   "outputs": [],
   "source": [
    "#create confusion matrix\n",
    "data = {'y_Actual': np.ravel(int_data_act).tolist(),\n",
    "        'y_Predicted': np.ravel(int_data_pred).tolist()}\n",
    "\n",
    "df = pd.DataFrame(data, columns=['y_Actual','y_Predicted'])\n",
    "confusion_matrix = pd.crosstab(df['y_Actual'], df['y_Predicted'], rownames=['Actual'], colnames=['Predicted'], margins = True)"
   ]
  },
  {
   "cell_type": "code",
   "execution_count": 31,
   "id": "41446ae7",
   "metadata": {},
   "outputs": [
    {
     "data": {
      "text/html": [
       "<div>\n",
       "<style scoped>\n",
       "    .dataframe tbody tr th:only-of-type {\n",
       "        vertical-align: middle;\n",
       "    }\n",
       "\n",
       "    .dataframe tbody tr th {\n",
       "        vertical-align: top;\n",
       "    }\n",
       "\n",
       "    .dataframe thead th {\n",
       "        text-align: right;\n",
       "    }\n",
       "</style>\n",
       "<table border=\"1\" class=\"dataframe\">\n",
       "  <thead>\n",
       "    <tr style=\"text-align: right;\">\n",
       "      <th>Predicted</th>\n",
       "      <th>0</th>\n",
       "      <th>1</th>\n",
       "      <th>2</th>\n",
       "      <th>3</th>\n",
       "      <th>4</th>\n",
       "      <th>5</th>\n",
       "      <th>6</th>\n",
       "      <th>7</th>\n",
       "      <th>8</th>\n",
       "      <th>All</th>\n",
       "    </tr>\n",
       "    <tr>\n",
       "      <th>Actual</th>\n",
       "      <th></th>\n",
       "      <th></th>\n",
       "      <th></th>\n",
       "      <th></th>\n",
       "      <th></th>\n",
       "      <th></th>\n",
       "      <th></th>\n",
       "      <th></th>\n",
       "      <th></th>\n",
       "      <th></th>\n",
       "    </tr>\n",
       "  </thead>\n",
       "  <tbody>\n",
       "    <tr>\n",
       "      <th>0</th>\n",
       "      <td>35</td>\n",
       "      <td>2</td>\n",
       "      <td>2</td>\n",
       "      <td>10</td>\n",
       "      <td>8</td>\n",
       "      <td>0</td>\n",
       "      <td>5</td>\n",
       "      <td>5</td>\n",
       "      <td>0</td>\n",
       "      <td>67</td>\n",
       "    </tr>\n",
       "    <tr>\n",
       "      <th>1</th>\n",
       "      <td>0</td>\n",
       "      <td>63</td>\n",
       "      <td>2</td>\n",
       "      <td>3</td>\n",
       "      <td>19</td>\n",
       "      <td>0</td>\n",
       "      <td>0</td>\n",
       "      <td>10</td>\n",
       "      <td>5</td>\n",
       "      <td>102</td>\n",
       "    </tr>\n",
       "    <tr>\n",
       "      <th>2</th>\n",
       "      <td>2</td>\n",
       "      <td>1</td>\n",
       "      <td>124</td>\n",
       "      <td>1</td>\n",
       "      <td>14</td>\n",
       "      <td>1</td>\n",
       "      <td>0</td>\n",
       "      <td>6</td>\n",
       "      <td>2</td>\n",
       "      <td>151</td>\n",
       "    </tr>\n",
       "    <tr>\n",
       "      <th>3</th>\n",
       "      <td>1</td>\n",
       "      <td>0</td>\n",
       "      <td>0</td>\n",
       "      <td>48</td>\n",
       "      <td>2</td>\n",
       "      <td>0</td>\n",
       "      <td>0</td>\n",
       "      <td>0</td>\n",
       "      <td>3</td>\n",
       "      <td>54</td>\n",
       "    </tr>\n",
       "    <tr>\n",
       "      <th>4</th>\n",
       "      <td>1</td>\n",
       "      <td>2</td>\n",
       "      <td>7</td>\n",
       "      <td>5</td>\n",
       "      <td>137</td>\n",
       "      <td>0</td>\n",
       "      <td>0</td>\n",
       "      <td>7</td>\n",
       "      <td>9</td>\n",
       "      <td>168</td>\n",
       "    </tr>\n",
       "    <tr>\n",
       "      <th>5</th>\n",
       "      <td>1</td>\n",
       "      <td>0</td>\n",
       "      <td>1</td>\n",
       "      <td>0</td>\n",
       "      <td>2</td>\n",
       "      <td>115</td>\n",
       "      <td>0</td>\n",
       "      <td>0</td>\n",
       "      <td>1</td>\n",
       "      <td>120</td>\n",
       "    </tr>\n",
       "    <tr>\n",
       "      <th>6</th>\n",
       "      <td>4</td>\n",
       "      <td>0</td>\n",
       "      <td>3</td>\n",
       "      <td>2</td>\n",
       "      <td>3</td>\n",
       "      <td>0</td>\n",
       "      <td>143</td>\n",
       "      <td>7</td>\n",
       "      <td>6</td>\n",
       "      <td>168</td>\n",
       "    </tr>\n",
       "    <tr>\n",
       "      <th>7</th>\n",
       "      <td>1</td>\n",
       "      <td>1</td>\n",
       "      <td>5</td>\n",
       "      <td>0</td>\n",
       "      <td>22</td>\n",
       "      <td>0</td>\n",
       "      <td>6</td>\n",
       "      <td>105</td>\n",
       "      <td>1</td>\n",
       "      <td>141</td>\n",
       "    </tr>\n",
       "    <tr>\n",
       "      <th>8</th>\n",
       "      <td>0</td>\n",
       "      <td>0</td>\n",
       "      <td>0</td>\n",
       "      <td>1</td>\n",
       "      <td>1</td>\n",
       "      <td>0</td>\n",
       "      <td>0</td>\n",
       "      <td>1</td>\n",
       "      <td>54</td>\n",
       "      <td>57</td>\n",
       "    </tr>\n",
       "    <tr>\n",
       "      <th>All</th>\n",
       "      <td>45</td>\n",
       "      <td>69</td>\n",
       "      <td>144</td>\n",
       "      <td>70</td>\n",
       "      <td>208</td>\n",
       "      <td>116</td>\n",
       "      <td>154</td>\n",
       "      <td>141</td>\n",
       "      <td>81</td>\n",
       "      <td>1028</td>\n",
       "    </tr>\n",
       "  </tbody>\n",
       "</table>\n",
       "</div>"
      ],
      "text/plain": [
       "Predicted   0   1    2   3    4    5    6    7   8   All\n",
       "Actual                                                  \n",
       "0          35   2    2  10    8    0    5    5   0    67\n",
       "1           0  63    2   3   19    0    0   10   5   102\n",
       "2           2   1  124   1   14    1    0    6   2   151\n",
       "3           1   0    0  48    2    0    0    0   3    54\n",
       "4           1   2    7   5  137    0    0    7   9   168\n",
       "5           1   0    1   0    2  115    0    0   1   120\n",
       "6           4   0    3   2    3    0  143    7   6   168\n",
       "7           1   1    5   0   22    0    6  105   1   141\n",
       "8           0   0    0   1    1    0    0    1  54    57\n",
       "All        45  69  144  70  208  116  154  141  81  1028"
      ]
     },
     "execution_count": 31,
     "metadata": {},
     "output_type": "execute_result"
    }
   ],
   "source": [
    "confusion_matrix  # pandas confusion matrix"
   ]
  },
  {
   "cell_type": "code",
   "execution_count": 32,
   "id": "a2bb30a3",
   "metadata": {},
   "outputs": [
    {
     "data": {
      "image/png": "[encoded data removed]",
      "text/plain": [
       "<Figure size 720x360 with 2 Axes>"
      ]
     },
     "metadata": {
      "needs_background": "light"
     },
     "output_type": "display_data"
    }
   ],
   "source": [
    "plt.figure(figsize=(10,5))\n",
    "sns.heatmap(confusion_matrix, annot=True, xticklabels=(sorted(set(test.group)) + ['ALL']), yticklabels=(sorted(set(test.group)) + ['ALL']),fmt='g')\n",
    "plt.title('Confusion Matrix')\n",
    "plt.show()"
   ]
  },
  {
   "cell_type": "code",
   "execution_count": null,
   "id": "25e06972",
   "metadata": {},
   "outputs": [],
   "source": [
    "#TP 824\n",
    "#TPR 0.802"
   ]
  }
 ],
 "metadata": {
  "kernelspec": {
   "display_name": "Python 3",
   "language": "python",
   "name": "python3"
  },
  "language_info": {
   "codemirror_mode": {
    "name": "ipython",
    "version": 3
   },
   "file_extension": ".py",
   "mimetype": "text/x-python",
   "name": "python",
   "nbconvert_exporter": "python",
   "pygments_lexer": "ipython3",
   "version": "3.8.8"
  }
 },
 "nbformat": 4,
 "nbformat_minor": 5
}
